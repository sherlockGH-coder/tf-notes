{
 "cells": [
  {
   "cell_type": "code",
   "execution_count": 6,
   "metadata": {},
   "outputs": [
    {
     "name": "stdout",
     "output_type": "stream",
     "text": [
      "2.3.0\n",
      "2.4.0\n"
     ]
    }
   ],
   "source": [
    "import tensorflow as tf\n",
    "from tensorflow import keras\n",
    "\n",
    "# 打印tensorflow和keras的版本\n",
    "print(tf.__version__)\n",
    "print(keras.__version__)\n"
   ]
  },
  {
   "cell_type": "code",
   "execution_count": 7,
   "metadata": {},
   "outputs": [],
   "source": [
    "fashion_mnist = keras.datasets.fashion_mnist\n",
    "\n",
    "# 加载数据集\n",
    "(train_images, train_labels), (test_images, test_labels) = fashion_mnist.load_data()"
   ]
  },
  {
   "cell_type": "code",
   "execution_count": 8,
   "metadata": {},
   "outputs": [],
   "source": [
    "# 构建模型\n",
    "model = keras.Sequential([\n",
    "    keras.layers.Flatten(input_shape=(28, 28)),\n",
    "    keras.layers.Dense(128, activation=tf.nn.relu),\n",
    "    keras.layers.Dense(10, activation=tf.nn.softmax)\n",
    "])"
   ]
  },
  {
   "cell_type": "code",
   "execution_count": 9,
   "metadata": {},
   "outputs": [
    {
     "name": "stdout",
     "output_type": "stream",
     "text": [
      "Epoch 1/5\n",
      "   1/1875 [..............................] - ETA: 0s - loss: 147.7232 - accuracy: 0.0938WARNING:tensorflow:From d:\\downLoad\\anaconda_install\\envs\\tensorflow_cpu\\lib\\site-packages\\tensorflow\\python\\ops\\summary_ops_v2.py:1277: stop (from tensorflow.python.eager.profiler) is deprecated and will be removed after 2020-07-01.\n",
      "Instructions for updating:\n",
      "use `tf.profiler.experimental.stop` instead.\n",
      "   2/1875 [..............................] - ETA: 1:35 - loss: 138.8407 - accuracy: 0.2031WARNING:tensorflow:Callbacks method `on_train_batch_end` is slow compared to the batch time (batch time: 0.0020s vs `on_train_batch_end` time: 0.1004s). Check your callbacks.\n",
      "1875/1875 [==============================] - 1s 747us/step - loss: 3.3373 - accuracy: 0.7019\n",
      "Epoch 2/5\n",
      "1875/1875 [==============================] - 1s 637us/step - loss: 0.6756 - accuracy: 0.7611\n",
      "Epoch 3/5\n",
      "1875/1875 [==============================] - 1s 633us/step - loss: 0.5994 - accuracy: 0.7961\n",
      "Epoch 4/5\n",
      "1875/1875 [==============================] - 1s 684us/step - loss: 0.5322 - accuracy: 0.8184\n",
      "Epoch 5/5\n",
      "1875/1875 [==============================] - 1s 745us/step - loss: 0.5197 - accuracy: 0.8236\n",
      "313/313 [==============================] - 0s 664us/step - loss: 0.5103 - accuracy: 0.8269\n",
      "Test accuracy:  0.8269000053405762\n"
     ]
    }
   ],
   "source": [
    "# 编译模型\n",
    "model.compile(optimizer=tf.optimizers.Adam(),\n",
    "              loss='sparse_categorical_crossentropy',\n",
    "              metrics=['accuracy'])\n",
    "\n",
    "# 创建一个TensorBoard回调函数\n",
    "tensorboard_callback = keras.callbacks.TensorBoard(log_dir='./logs')\n",
    "\n",
    "# 训练模型\n",
    "model.fit(train_images, train_labels, epochs=5, callbacks=[tensorboard_callback])\n",
    "# 评估模型\n",
    "test_loss, test_acc = model.evaluate(test_images, test_labels)\n",
    "print(\"Test accuracy: \", test_acc)\n"
   ]
  },
  {
   "cell_type": "code",
   "execution_count": null,
   "metadata": {},
   "outputs": [],
   "source": [
    "# 查看tensorboard记录的内容\n",
    "# 在终端中运行以下命令\n",
    "# tensorboard --logdir logs\n"
   ]
  }
 ],
 "metadata": {
  "kernelspec": {
   "display_name": "tensorflow_cpu",
   "language": "python",
   "name": "python3"
  },
  "language_info": {
   "codemirror_mode": {
    "name": "ipython",
    "version": 3
   },
   "file_extension": ".py",
   "mimetype": "text/x-python",
   "name": "python",
   "nbconvert_exporter": "python",
   "pygments_lexer": "ipython3",
   "version": "3.7.16"
  }
 },
 "nbformat": 4,
 "nbformat_minor": 2
}
